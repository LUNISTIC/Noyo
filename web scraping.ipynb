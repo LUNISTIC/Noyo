{
 "cells": [
  {
   "cell_type": "code",
   "execution_count": 1,
   "id": "abfcf582",
   "metadata": {},
   "outputs": [],
   "source": [
    "#! pip install openpyxl\n",
    "import requests \n",
    "import bs4\n",
    "from selenium import webdriver\n",
    "from bs4 import BeautifulSoup\n",
    "import pandas as pd"
   ]
  },
  {
   "cell_type": "code",
   "execution_count": 2,
   "id": "d4887085",
   "metadata": {},
   "outputs": [],
   "source": [
    "headers = {'user-agent':'Mozilla/5.0 (Windows NT 10.0; Win64; x64) AppleWebKit/537.36 (KHTML, like Gecko) Chrome/92.0.4515.159 Safari/53'}\n",
    "url ='https://www.mahindrafirstchoice.com/used-cars/delhi'\n",
    "r = requests.get(url, headers=headers)\n"
   ]
  },
  {
   "cell_type": "code",
   "execution_count": 3,
   "id": "300e44ad",
   "metadata": {},
   "outputs": [],
   "source": [
    "soup = BeautifulSoup(r.text, 'html.parser')"
   ]
  },
  {
   "cell_type": "code",
   "execution_count": null,
   "id": "beeb722c",
   "metadata": {},
   "outputs": [],
   "source": []
  },
  {
   "cell_type": "code",
   "execution_count": 4,
   "id": "2f020051",
   "metadata": {},
   "outputs": [
    {
     "name": "stdout",
     "output_type": "stream",
     "text": [
      "   Company Name And Year Of Car                     Model name  \\\n",
      "0            2016 Maruti Suzuki                 Ritz LXI BS IV   \n",
      "1            2014 Maruti Suzuki                    Wagon R LXI   \n",
      "2                  2013 Hyundai                  I10 MAGNA 1.2   \n",
      "3                  2013 Hyundai                  I10 MAGNA 1.2   \n",
      "4                  2012 Hyundai                  I10 MAGNA 1.2   \n",
      "5                  2013 Renault        Duster 85 PS RXE DIESEL   \n",
      "6                 2014 Mahindra                      Quanto C8   \n",
      "7                  2013 Renault      Duster RXL PLUS DIESEL 85   \n",
      "8                   2014 Nissan                   Terrano XL D   \n",
      "9                  2013 Renault              Duster 110 PS RXZ   \n",
      "10                   2014 Honda              City SV MT PETROL   \n",
      "11           2018 Maruti Suzuki                 Alto 800 LXI O   \n",
      "12                 2011 Hyundai          I10 SPORTZ 1.2 KAPPA2   \n",
      "13                 2011 Hyundai          I10 SPORTZ 1.2 KAPPA2   \n",
      "14                 2019 Hyundai  Venue SX 1.0 DUAL TONE PETROL   \n",
      "\n",
      "   Location of car Price of car  \\\n",
      "0            Delhi       3Lakhs   \n",
      "1        Ghaziabad       3Lakhs   \n",
      "2            Noida       3Lakhs   \n",
      "3            Noida       3Lakhs   \n",
      "4        Ghaziabad       3Lakhs   \n",
      "5            Delhi    3.25Lakhs   \n",
      "6          Gurgaon     3.5Lakhs   \n",
      "7          Gurgaon    4.25Lakhs   \n",
      "8            Delhi     4.5Lakhs   \n",
      "9            Delhi     4.5Lakhs   \n",
      "10           Noida    5.75Lakhs   \n",
      "11       Faridabad            1   \n",
      "12           Delhi     2.7Lakhs   \n",
      "13       Ghaziabad     2.7Lakhs   \n",
      "14           Delhi   10.85Lakhs   \n",
      "\n",
      "   Kilometers used, Fuel Type, Car Type And Type Of Owner  \n",
      "0   \\n\\n\\n90,000 Kms\\n\\n\\n\\n\\r\\n\\r\\nPetrol        ...      \n",
      "1   \\n\\n\\n47,951 Kms\\n\\n\\n\\n\\r\\n\\r\\nPetrol        ...      \n",
      "2   \\n\\n\\n33,375 Kms\\n\\n\\n\\n\\r\\n\\r\\nPetrol        ...      \n",
      "3   \\n\\n\\n33,375 Kms\\n\\n\\n\\n\\r\\n\\r\\nPetrol        ...      \n",
      "4   \\n\\n\\n44,000 Kms\\n\\n\\n\\n\\r\\n\\r\\nPetrol        ...      \n",
      "5   \\n\\n\\n93,000 Kms\\n\\n\\n\\n\\r\\n\\r\\nDiesel        ...      \n",
      "6   \\n\\n\\n76,949 Kms\\n\\n\\n\\n\\r\\n\\r\\nDiesel        ...      \n",
      "7   \\n\\n\\n90,923 Kms\\n\\n\\n\\n\\r\\n\\r\\nDiesel        ...      \n",
      "8   \\n\\n\\n67,841 Kms\\n\\n\\n\\n\\r\\n\\r\\nDiesel        ...      \n",
      "9   \\n\\n\\n80,000 Kms\\n\\n\\n\\n\\r\\n\\r\\nDiesel        ...      \n",
      "10  \\n\\n\\n34,000 Kms\\n\\n\\n\\n\\r\\n\\r\\nPetrol        ...      \n",
      "11  \\n\\n\\n24,260 Kms\\n\\n\\n\\n\\r\\n\\r\\nPetrol        ...      \n",
      "12  \\n\\n\\n41,500 Kms\\n\\n\\n\\n\\r\\n\\r\\nPetrol        ...      \n",
      "13  \\n\\n\\n41,500 Kms\\n\\n\\n\\n\\r\\n\\r\\nPetrol        ...      \n",
      "14  \\n\\n\\n15,300 Kms\\n\\n\\n\\n\\r\\n\\r\\nPetrol        ...      \n"
     ]
    }
   ],
   "source": [
    "cars = soup.find_all('div', class_='col-md-4 float-left col-12 general-car')\n",
    "car_specs = []\n",
    "for car in cars:\n",
    "  \n",
    "    company = car.find('h3',{'class' : 'buyer_make'}).text #company name\n",
    "    \n",
    "    model_name = car.find('a',{'class':'lnkstockdetail'})['title']\n",
    "    \n",
    "    location = car.find('span',class_='buyer_locations icon_set stock_location b').text.replace(' ','') #location variable of vehicle\n",
    "    \n",
    "    kilometers_driven = car.find('span', class_='overview_name').text.replace(' ','')\n",
    "    \n",
    "    price = car.find('span',class_='car_price').text.replace(' ','')\n",
    "    \n",
    "    owner_type = car.find('ul',class_='spec-info-list').text\n",
    "      \n",
    "   # print(f\"Company Name And Year Of Car :{company}\")\n",
    "   # print(f\"Model Name:{model_name.strip()}\")\n",
    "    #print(f\"Location of car :{location.strip()}\")\n",
    "   # print(f\"Price of car : {price.strip()}\")\n",
    "    #print(f\"Kilometers used, Fuel Type, Car Type And Type Of Owner: {owner_type.strip()}\")\n",
    "    \n",
    "   # print(\" \")\n",
    "    car_spec={\n",
    "        'Company Name And Year Of Car':company,\n",
    "        'Model name':model_name,\n",
    "        'Location of car':location,\n",
    "        'Price of car':price,\n",
    "        'Kilometers used, Fuel Type, Car Type And Type Of Owner':owner_type\n",
    "    }\n",
    "     \n",
    "    car_specs.append(car_spec)\n",
    "        \n",
    "        \n",
    "df=pd.DataFrame(car_specs)\n",
    "print(df)"
   ]
  },
  {
   "cell_type": "code",
   "execution_count": 5,
   "id": "19f00b06",
   "metadata": {},
   "outputs": [
    {
     "name": "stdout",
     "output_type": "stream",
     "text": [
      "fin.\n"
     ]
    }
   ],
   "source": [
    "df.to_excel('CAR specifications.xlsx',index=False)\n",
    "print('fin.')"
   ]
  },
  {
   "cell_type": "code",
   "execution_count": null,
   "id": "b5609ad7",
   "metadata": {},
   "outputs": [],
   "source": []
  },
  {
   "cell_type": "code",
   "execution_count": 70,
   "id": "806e47f4",
   "metadata": {},
   "outputs": [],
   "source": []
  },
  {
   "cell_type": "code",
   "execution_count": null,
   "id": "e8cbb858",
   "metadata": {},
   "outputs": [],
   "source": []
  }
 ],
 "metadata": {
  "kernelspec": {
   "display_name": "Python 3",
   "language": "python",
   "name": "python3"
  },
  "language_info": {
   "codemirror_mode": {
    "name": "ipython",
    "version": 3
   },
   "file_extension": ".py",
   "mimetype": "text/x-python",
   "name": "python",
   "nbconvert_exporter": "python",
   "pygments_lexer": "ipython3",
   "version": "3.7.7"
  }
 },
 "nbformat": 4,
 "nbformat_minor": 5
}
